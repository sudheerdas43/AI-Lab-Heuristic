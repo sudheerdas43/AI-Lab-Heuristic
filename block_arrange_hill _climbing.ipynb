{
  "nbformat": 4,
  "nbformat_minor": 0,
  "metadata": {
    "colab": {
      "provenance": [],
      "authorship_tag": "ABX9TyOwlvRFkXKm8DVfi3bwhv38",
      "include_colab_link": true
    },
    "kernelspec": {
      "name": "python3",
      "display_name": "Python 3"
    },
    "language_info": {
      "name": "python"
    }
  },
  "cells": [
    {
      "cell_type": "markdown",
      "metadata": {
        "id": "view-in-github",
        "colab_type": "text"
      },
      "source": [
        "<a href=\"https://colab.research.google.com/github/sudheerdas43/AI-Lab-Heuristic/blob/main/block_arrange_hill%20_climbing.ipynb\" target=\"_parent\"><img src=\"https://colab.research.google.com/assets/colab-badge.svg\" alt=\"Open In Colab\"/></a>"
      ]
    },
    {
      "cell_type": "code",
      "execution_count": 1,
      "metadata": {
        "colab": {
          "base_uri": "https://localhost:8080/"
        },
        "id": "Zk83WSv6LLrT",
        "outputId": "d0ee5050-03db-44b5-bb64-679ec7729ebb"
      },
      "outputs": [
        {
          "output_type": "stream",
          "name": "stdout",
          "text": [
            "Initial Stack: ['C', 'A', 'D', 'B']\n",
            "Initial Heuristic: 4\n",
            "\n",
            "Evaluating: ['A', 'C', 'D', 'B'] | Heuristic: 3\n",
            "Evaluating: ['C', 'D', 'A', 'B'] | Heuristic: 4\n",
            "Evaluating: ['C', 'A', 'B', 'D'] | Heuristic: 3\n",
            "\n",
            "Move: swap(0, 1)\n",
            "Current Stack: ['A', 'C', 'D', 'B']\n",
            "Current Heuristic: 3\n",
            "\n",
            "Evaluating: ['C', 'A', 'D', 'B'] | Heuristic: 4\n",
            "Evaluating: ['A', 'D', 'C', 'B'] | Heuristic: 2\n",
            "Evaluating: ['A', 'C', 'B', 'D'] | Heuristic: 2\n",
            "\n",
            "Move: swap(1, 2)\n",
            "Current Stack: ['A', 'D', 'C', 'B']\n",
            "Current Heuristic: 2\n",
            "\n",
            "Evaluating: ['D', 'A', 'C', 'B'] | Heuristic: 3\n",
            "Evaluating: ['A', 'C', 'D', 'B'] | Heuristic: 3\n",
            "Evaluating: ['A', 'D', 'B', 'C'] | Heuristic: 3\n",
            "\n",
            "Stuck at local minimum or reached goal.\n",
            "Hill Climbing got stuck. Best state found:\n",
            "Final Stack: ['A', 'D', 'C', 'B']\n",
            "Path tried: ['swap(0, 1)', 'swap(1, 2)']\n"
          ]
        }
      ],
      "source": [
        "def heuristic(state, goal):\n",
        "    \"\"\"Heuristic: count how many blocks are out of place compared to the goal.\"\"\"\n",
        "    return sum(1 for i in range(len(state)) if state[i] != goal[i])\n",
        "\n",
        "def get_neighbors(state):\n",
        "    \"\"\"Generate neighbors by swapping adjacent blocks.\"\"\"\n",
        "    neighbors = []\n",
        "    for i in range(len(state) - 1):\n",
        "        new_state = state.copy()\n",
        "        # Swap adjacent blocks\n",
        "        new_state[i], new_state[i+1] = new_state[i+1], new_state[i]\n",
        "        neighbors.append((new_state, f\"swap({i}, {i+1})\"))\n",
        "    return neighbors\n",
        "\n",
        "def hill_climbing(start_state, goal_state):\n",
        "    \"\"\"Hill Climbing algorithm to solve the block arrangement problem.\"\"\"\n",
        "    current_state = start_state\n",
        "    current_h = heuristic(current_state, goal_state)\n",
        "    path = []\n",
        "\n",
        "    print(\"Initial Stack:\", current_state)\n",
        "    print(\"Initial Heuristic:\", current_h)\n",
        "    print()\n",
        "\n",
        "    while True:\n",
        "        neighbors = get_neighbors(current_state)\n",
        "        next_state = None\n",
        "        next_h = current_h\n",
        "\n",
        "        # Evaluate all neighbors to find the one with lowest heuristic\n",
        "        for state, move in neighbors:\n",
        "            h = heuristic(state, goal_state)\n",
        "            print(\"Evaluating:\", state, \"| Heuristic:\", h)\n",
        "            if h < next_h:\n",
        "                next_h = h\n",
        "                next_state = (state, move)\n",
        "\n",
        "        print()\n",
        "\n",
        "        # No better neighbor found\n",
        "        if next_state is None:\n",
        "            print(\"Stuck at local minimum or reached goal.\")\n",
        "            break\n",
        "\n",
        "        # Move to better neighbor\n",
        "        current_state, move = next_state\n",
        "        current_h = next_h\n",
        "        path.append(move)\n",
        "        print(\"Move:\", move)\n",
        "        print(\"Current Stack:\", current_state)\n",
        "        print(\"Current Heuristic:\", current_h)\n",
        "        print()\n",
        "\n",
        "        # If goal reached\n",
        "        if current_h == 0:\n",
        "            break\n",
        "\n",
        "    if current_h == 0:\n",
        "        print(\"Goal reached!\")\n",
        "        print(\"Solution path:\", path)\n",
        "    else:\n",
        "        print(\"Hill Climbing got stuck. Best state found:\")\n",
        "        print(\"Final Stack:\", current_state)\n",
        "        print(\"Path tried:\", path)\n",
        "\n",
        "# Example input\n",
        "initial_stack = ['C', 'A', 'D', 'B']\n",
        "goal_stack = ['A', 'B', 'C', 'D']\n",
        "\n",
        "hill_climbing(initial_stack, goal_stack)"
      ]
    }
  ]
}